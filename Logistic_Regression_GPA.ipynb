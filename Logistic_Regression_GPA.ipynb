{
 "metadata": {
  "name": "",
  "signature": "sha256:6dd3f14610e354f9c1a68bd7f41ef7076f897220c3007e378678937c36fd47e8"
 },
 "nbformat": 3,
 "nbformat_minor": 0,
 "worksheets": [
  {
   "cells": [
    {
     "cell_type": "code",
     "collapsed": false,
     "input": [
      "import pandas as pd\n",
      "import statsmodels.api as sm\n",
      "import pylab as pl\n",
      "import numpy as np\n",
      "\n",
      "\"\"\" \n",
      "Our goal will be to identify the various factors \n",
      "that may influence admission into graduate school.\n",
      "\"\"\"\n",
      "\n",
      "# read the data in\n",
      "df = pd.read_csv(\"http://www.ats.ucla.edu/stat/data/binary.csv\")\n",
      "# rename the 'rank' column because there is also a DataFrame method called 'rank'\n",
      "df.columns = [\"admit\", \"gre\", \"gpa\", \"prestige\"]\n",
      "print df.describe()\n",
      "print df.std()\n",
      "\n",
      "df.head()"
     ],
     "language": "python",
     "metadata": {},
     "outputs": [
      {
       "output_type": "stream",
       "stream": "stdout",
       "text": [
        "            admit         gre         gpa   prestige\n",
        "count  400.000000  400.000000  400.000000  400.00000\n",
        "mean     0.317500  587.700000    3.389900    2.48500\n",
        "std      0.466087  115.516536    0.380567    0.94446\n",
        "min      0.000000  220.000000    2.260000    1.00000\n",
        "25%      0.000000  520.000000    3.130000    2.00000\n",
        "50%      0.000000  580.000000    3.395000    2.00000\n",
        "75%      1.000000  660.000000    3.670000    3.00000\n",
        "max      1.000000  800.000000    4.000000    4.00000\n",
        "admit         0.466087\n",
        "gre         115.516536\n",
        "gpa           0.380567\n",
        "prestige      0.944460\n",
        "dtype: float64\n"
       ]
      },
      {
       "html": [
        "<div style=\"max-height:1000px;max-width:1500px;overflow:auto;\">\n",
        "<table border=\"1\" class=\"dataframe\">\n",
        "  <thead>\n",
        "    <tr style=\"text-align: right;\">\n",
        "      <th></th>\n",
        "      <th>admit</th>\n",
        "      <th>gre</th>\n",
        "      <th>gpa</th>\n",
        "      <th>prestige</th>\n",
        "    </tr>\n",
        "  </thead>\n",
        "  <tbody>\n",
        "    <tr>\n",
        "      <th>0</th>\n",
        "      <td> 0</td>\n",
        "      <td> 380</td>\n",
        "      <td> 3.61</td>\n",
        "      <td> 3</td>\n",
        "    </tr>\n",
        "    <tr>\n",
        "      <th>1</th>\n",
        "      <td> 1</td>\n",
        "      <td> 660</td>\n",
        "      <td> 3.67</td>\n",
        "      <td> 3</td>\n",
        "    </tr>\n",
        "    <tr>\n",
        "      <th>2</th>\n",
        "      <td> 1</td>\n",
        "      <td> 800</td>\n",
        "      <td> 4.00</td>\n",
        "      <td> 1</td>\n",
        "    </tr>\n",
        "    <tr>\n",
        "      <th>3</th>\n",
        "      <td> 1</td>\n",
        "      <td> 640</td>\n",
        "      <td> 3.19</td>\n",
        "      <td> 4</td>\n",
        "    </tr>\n",
        "    <tr>\n",
        "      <th>4</th>\n",
        "      <td> 0</td>\n",
        "      <td> 520</td>\n",
        "      <td> 2.93</td>\n",
        "      <td> 4</td>\n",
        "    </tr>\n",
        "  </tbody>\n",
        "</table>\n",
        "</div>"
       ],
       "metadata": {},
       "output_type": "pyout",
       "prompt_number": 6,
       "text": [
        "   admit  gre   gpa  prestige\n",
        "0      0  380  3.61         3\n",
        "1      1  660  3.67         3\n",
        "2      1  800  4.00         1\n",
        "3      1  640  3.19         4\n",
        "4      0  520  2.93         4"
       ]
      }
     ],
     "prompt_number": 6
    },
    {
     "cell_type": "code",
     "collapsed": false,
     "input": [
      "pd.crosstab(df['admit'], df['prestige'], rownames=['admit'])\n"
     ],
     "language": "python",
     "metadata": {},
     "outputs": [
      {
       "html": [
        "<div style=\"max-height:1000px;max-width:1500px;overflow:auto;\">\n",
        "<table border=\"1\" class=\"dataframe\">\n",
        "  <thead>\n",
        "    <tr style=\"text-align: right;\">\n",
        "      <th>prestige</th>\n",
        "      <th>1</th>\n",
        "      <th>2</th>\n",
        "      <th>3</th>\n",
        "      <th>4</th>\n",
        "    </tr>\n",
        "    <tr>\n",
        "      <th>admit</th>\n",
        "      <th></th>\n",
        "      <th></th>\n",
        "      <th></th>\n",
        "      <th></th>\n",
        "    </tr>\n",
        "  </thead>\n",
        "  <tbody>\n",
        "    <tr>\n",
        "      <th>0</th>\n",
        "      <td> 28</td>\n",
        "      <td> 97</td>\n",
        "      <td> 93</td>\n",
        "      <td> 55</td>\n",
        "    </tr>\n",
        "    <tr>\n",
        "      <th>1</th>\n",
        "      <td> 33</td>\n",
        "      <td> 54</td>\n",
        "      <td> 28</td>\n",
        "      <td> 12</td>\n",
        "    </tr>\n",
        "  </tbody>\n",
        "</table>\n",
        "</div>"
       ],
       "metadata": {},
       "output_type": "pyout",
       "prompt_number": 14,
       "text": [
        "prestige   1   2   3   4\n",
        "admit                   \n",
        "0         28  97  93  55\n",
        "1         33  54  28  12"
       ]
      }
     ],
     "prompt_number": 14
    },
    {
     "cell_type": "code",
     "collapsed": false,
     "input": [
      "df.hist();"
     ],
     "language": "python",
     "metadata": {},
     "outputs": [
      {
       "metadata": {},
       "output_type": "display_data",
       "png": "[encoded data removed]",
       "text": [
        "<matplotlib.figure.Figure at 0x10d7138d0>"
       ]
      }
     ],
     "prompt_number": 16
    },
    {
     "cell_type": "code",
     "collapsed": false,
     "input": [
      "## MAKE PRESTIGE A BINARY CATEGORICAL \n",
      "dummies = pd.get_dummies(df['prestige'], prefix='prestige')\n",
      "\n",
      "## MAKE A CLEAN DATA FRAME\n",
      "data = df.copy()\n",
      "\n",
      "## DROP THE PRESTIGE WE DONT NEED ANYMORE CAUSE WE HAVE THE DUMMY VARIABLE COLS\n",
      "data.pop('prestige')\n",
      "\n",
      "## JOIN DUMMIFIED DATA\n",
      "data = data.join(dummies)\n",
      "\n",
      "## CREATE A CONSTANT FOR OUR INTERCEPT \n",
      "data['intercept'] = 1.0\n",
      "\n",
      "## TO AVOID DUMMY VARIABLE TRAP DROP PRESTIGE_1   ## http://en.wikipedia.org/wiki/Multicollinearity#Remedies_for_multicollinearity\n",
      "data.pop('prestige_1')\n",
      "\n",
      "\n",
      "\n",
      "###################################################################\n",
      "\n",
      "## WE ARE GOING TO PREDICT THE ADMIT COL BASED ON GRE,GPA, AND PRESTIGE COLS\n",
      "\n",
      "## REMOVE ADMIT FROM DATAFRAME, SAVE IT AS y\n",
      "y = data.pop('admit')\n",
      "\n",
      "## USE EVERY OTHER COL AS TRAINING DATA\n",
      "X = data.values\n",
      "\n",
      "## INITALIZE OUR MODEL\n",
      "logit = sm.Logit(y, X)\n",
      "\n",
      "## FIT OUR MODEL\n",
      "result = logit.fit()\n",
      "\n",
      "print result.summary()"
     ],
     "language": "python",
     "metadata": {},
     "outputs": [
      {
       "output_type": "stream",
       "stream": "stdout",
       "text": [
        "Optimization terminated successfully.\n",
        "         Current function value: 0.573147\n",
        "         Iterations 6\n",
        "                           Logit Regression Results                           \n",
        "==============================================================================\n",
        "Dep. Variable:                  admit   No. Observations:                  400\n",
        "Model:                          Logit   Df Residuals:                      394\n",
        "Method:                           MLE   Df Model:                            5\n",
        "Date:                Sun, 22 Mar 2015   Pseudo R-squ.:                 0.08292\n",
        "Time:                        19:37:23   Log-Likelihood:                -229.26\n",
        "converged:                       True   LL-Null:                       -249.99\n",
        "                                        LLR p-value:                 7.578e-08\n",
        "==============================================================================\n",
        "                 coef    std err          z      P>|z|      [95.0% Conf. Int.]\n",
        "------------------------------------------------------------------------------\n",
        "x1             0.0023      0.001      2.070      0.038         0.000     0.004\n",
        "x2             0.8040      0.332      2.423      0.015         0.154     1.454\n",
        "x3            -0.6754      0.316     -2.134      0.033        -1.296    -0.055\n",
        "x4            -1.3402      0.345     -3.881      0.000        -2.017    -0.663\n",
        "x5            -1.5515      0.418     -3.713      0.000        -2.370    -0.733\n",
        "const         -3.9900      1.140     -3.500      0.000        -6.224    -1.756\n",
        "==============================================================================\n"
       ]
      }
     ],
     "prompt_number": 36
    },
    {
     "cell_type": "code",
     "collapsed": false,
     "input": [
      "###############################\n",
      "## INTERPERTING OUR RESULTS  ##\n",
      "###############################\n",
      "coefs = result.params\n",
      "print \"Coefficients: \\n\", coefs\n",
      "print '#######################'\n",
      "print \"\"\"\n",
      "ODDS RATIO:  \n",
      "To create the odds ratio, just compute the exponential of the coefficients.\n",
      "WHY??? This tells you how 1 unit increase or decrease in a variable \n",
      "affects the odds of being admitted.  \n",
      "\n",
      "print np.exp(coefs) \n",
      "# gre           1.002267\n",
      "# gpa           2.234545\n",
      "# prestige_2    0.508931\n",
      "# prestige_3    0.261792\n",
      "# prestige_4    0.211938\n",
      "# intercept     0.018500\n",
      "\n",
      "Here, since prestige_2 is 0.5, what this means is that the odds of being admittied when prestige_2\n",
      "is true is 50%.  \n",
      "\n",
      "\"\"\"\n",
      "\n",
      "### THIS HERE IS THE CONFIDANCE INTERVALS\n",
      "### TELLING US THAT WE ARE 95% CONFIDENT THE COEFFICIENT VALUE \n",
      "### FALLES BETWEEN THESE TWO INTERVALS \n",
      "\n",
      "# print confidence_intervals = result.conf_int()\n",
      "#                  0         1\n",
      "# gre         0.000120  0.004409\n",
      "# gpa         0.153684  1.454391\n",
      "# prestige_2 -1.295751 -0.055135\n",
      "# prestige_3 -2.016992 -0.663416\n",
      "# prestige_4 -2.370399 -0.732529\n",
      "# intercept  -6.224242 -1.755716"
     ],
     "language": "python",
     "metadata": {},
     "outputs": [
      {
       "output_type": "stream",
       "stream": "stdout",
       "text": [
        "Coefficients: \n",
        "x1       0.002264\n",
        "x2       0.804038\n",
        "x3      -0.675443\n",
        "x4      -1.340204\n",
        "x5      -1.551464\n",
        "const   -3.989979\n",
        "dtype: float64\n",
        "#######################\n",
        "\n",
        "ODDS RATIO:  \n",
        "To create the odds ratio, just compute the exponential of the coefficients.\n",
        "WHY??? This tells you how 1 unit increase or decrease in a variable \n",
        "affects the odds of being admitted.  \n",
        "\n",
        "print np.exp(coefs) \n",
        "# gre           1.002267\n",
        "# gpa           2.234545\n",
        "# prestige_2    0.508931\n",
        "# prestige_3    0.261792\n",
        "# prestige_4    0.211938\n",
        "# intercept     0.018500\n",
        "\n",
        "Here, since prestige_2 is 0.5, what this means is that the odds of being admittied when prestige_2\n",
        "is true is 50%.  \n",
        "\n",
        "\n"
       ]
      }
     ],
     "prompt_number": 52
    },
    {
     "cell_type": "code",
     "collapsed": false,
     "input": [],
     "language": "python",
     "metadata": {},
     "outputs": []
    },
    {
     "cell_type": "code",
     "collapsed": false,
     "input": [],
     "language": "python",
     "metadata": {},
     "outputs": []
    },
    {
     "cell_type": "code",
     "collapsed": false,
     "input": [],
     "language": "python",
     "metadata": {},
     "outputs": []
    },
    {
     "cell_type": "code",
     "collapsed": false,
     "input": [],
     "language": "python",
     "metadata": {},
     "outputs": []
    },
    {
     "cell_type": "code",
     "collapsed": false,
     "input": [],
     "language": "python",
     "metadata": {},
     "outputs": []
    },
    {
     "cell_type": "code",
     "collapsed": false,
     "input": [
      "## INIT YOUR CLASSIFIER OBJECT\n",
      "logit = LogisticRegression()\n",
      "\n",
      "## TRAIN YOUR MODEL\n",
      "logit.fit(X=X_train, y=y_train)\n",
      "\n",
      "## SEE HOW YOUR LOGIT SCORES ON YOUR TEST DATA\n",
      "logit.score(X=X_test, y=y_test)\n",
      "\n",
      "prediction_probabilities = logit.predict_proba(X=X_test)\n",
      "predictions = logit.predict(X=X_test)\n",
      "predictions"
     ],
     "language": "python",
     "metadata": {},
     "outputs": [
      {
       "metadata": {},
       "output_type": "pyout",
       "prompt_number": 30,
       "text": [
        "array([2, 1, 1, 2, 2, 0, 2, 1, 2, 2, 1, 2, 1, 2, 2, 0, 1, 0, 0, 0, 2, 0, 0,\n",
        "       2, 2, 0, 2, 1, 0, 2, 0, 0, 0, 2, 0, 1, 0, 2])"
       ]
      }
     ],
     "prompt_number": 30
    },
    {
     "cell_type": "code",
     "collapsed": false,
     "input": [
      "import statsmodels.api as sm"
     ],
     "language": "python",
     "metadata": {},
     "outputs": [],
     "prompt_number": 39
    },
    {
     "cell_type": "code",
     "collapsed": false,
     "input": [
      "# http://blog.yhathq.com/posts/logistic-regression-and-python.html"
     ],
     "language": "python",
     "metadata": {},
     "outputs": [],
     "prompt_number": 40
    },
    {
     "cell_type": "code",
     "collapsed": false,
     "input": [],
     "language": "python",
     "metadata": {},
     "outputs": []
    }
   ],
   "metadata": {}
  }
 ]
}
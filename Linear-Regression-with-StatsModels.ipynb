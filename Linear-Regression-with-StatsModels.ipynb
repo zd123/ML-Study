{
 "metadata": {
  "name": "",
  "signature": "sha256:6f5ac3262decd737f91bd71f75568a95cc6102075b957f9f4e6bbc61f90814a7"
 },
 "nbformat": 3,
 "nbformat_minor": 0,
 "worksheets": [
  {
   "cells": [
    {
     "cell_type": "code",
     "collapsed": false,
     "input": [
      "import statsmodels.api as sm\n",
      "import statsmodels.formula.api as smf\n",
      "\n",
      "import pandas as pd\n",
      "df = pd.read_csv('data/housing-data.csv')\n",
      "df['constant'] = 1\n",
      "df.head()\n",
      "\n",
      "y = df['price']\n",
      "X = df[['sqft', 'bdrms', 'age', 'constant']]\n",
      "\n",
      "algo = sm.OLS(y, X)\n",
      "residuals = algo.fit()\n",
      "# residuals.summary()\n",
      "df.price = df.price / 1000.\n"
     ],
     "language": "python",
     "metadata": {},
     "outputs": [],
     "prompt_number": 20
    },
    {
     "cell_type": "code",
     "collapsed": false,
     "input": [
      "df.plot(kind='scatter', x='sqft', y='price')"
     ],
     "language": "python",
     "metadata": {},
     "outputs": [
      {
       "metadata": {},
       "output_type": "pyout",
       "prompt_number": 23,
       "text": [
        "<matplotlib.axes._subplots.AxesSubplot at 0x10b3c8cd0>"
       ]
      },
      {
       "metadata": {},
       "output_type": "display_data",
       "png": "[encoded data removed]",
       "text": [
        "<matplotlib.figure.Figure at 0x10b3ae410>"
       ]
      }
     ],
     "prompt_number": 23
    },
    {
     "cell_type": "code",
     "collapsed": false,
     "input": [],
     "language": "python",
     "metadata": {},
     "outputs": []
    }
   ],
   "metadata": {}
  }
 ]
}
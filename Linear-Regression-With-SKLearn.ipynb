{
 "metadata": {
  "name": "",
  "signature": "sha256:5fc83e1bbd684860dbf1e663e9663573b4994acb56f1a699fe2e01cd95d124ce"
 },
 "nbformat": 3,
 "nbformat_minor": 0,
 "worksheets": [
  {
   "cells": [
    {
     "cell_type": "code",
     "collapsed": false,
     "input": [
      "from sklearn.linear_model import LinearRegression\n",
      "import pandas as pd\n",
      "# from sklearn.datasets import load_boston\n",
      "# data = load_boston()\n",
      "\n",
      "df = pd.read_csv('data/housing-data.csv')\n",
      "df.head()\n",
      "\n"
     ],
     "language": "python",
     "metadata": {},
     "outputs": [
      {
       "html": [
        "<div style=\"max-height:1000px;max-width:1500px;overflow:auto;\">\n",
        "<table border=\"1\" class=\"dataframe\">\n",
        "  <thead>\n",
        "    <tr style=\"text-align: right;\">\n",
        "      <th></th>\n",
        "      <th>sqft</th>\n",
        "      <th>bdrms</th>\n",
        "      <th>age</th>\n",
        "      <th>price</th>\n",
        "    </tr>\n",
        "  </thead>\n",
        "  <tbody>\n",
        "    <tr>\n",
        "      <th>0</th>\n",
        "      <td> 2104</td>\n",
        "      <td> 3</td>\n",
        "      <td> 70</td>\n",
        "      <td> 399900</td>\n",
        "    </tr>\n",
        "    <tr>\n",
        "      <th>1</th>\n",
        "      <td> 1600</td>\n",
        "      <td> 3</td>\n",
        "      <td> 28</td>\n",
        "      <td> 329900</td>\n",
        "    </tr>\n",
        "    <tr>\n",
        "      <th>2</th>\n",
        "      <td> 2400</td>\n",
        "      <td> 3</td>\n",
        "      <td> 44</td>\n",
        "      <td> 369000</td>\n",
        "    </tr>\n",
        "    <tr>\n",
        "      <th>3</th>\n",
        "      <td> 1416</td>\n",
        "      <td> 2</td>\n",
        "      <td> 49</td>\n",
        "      <td> 232000</td>\n",
        "    </tr>\n",
        "    <tr>\n",
        "      <th>4</th>\n",
        "      <td> 3000</td>\n",
        "      <td> 4</td>\n",
        "      <td> 75</td>\n",
        "      <td> 539900</td>\n",
        "    </tr>\n",
        "  </tbody>\n",
        "</table>\n",
        "</div>"
       ],
       "metadata": {},
       "output_type": "pyout",
       "prompt_number": 8,
       "text": [
        "   sqft  bdrms  age   price\n",
        "0  2104      3   70  399900\n",
        "1  1600      3   28  329900\n",
        "2  2400      3   44  369000\n",
        "3  1416      2   49  232000\n",
        "4  3000      4   75  539900"
       ]
      }
     ],
     "prompt_number": 8
    },
    {
     "cell_type": "code",
     "collapsed": false,
     "input": [
      "clf = LinearRegression()\n",
      "df['constant'] = 1\n",
      "data_feature = df[['constant','sqft']].values\n",
      "data_target = df['price'].values\n",
      "\n",
      "## THIS HAPPNES IN PLACE\n",
      "# clf.fit(data.data, data.target)\n",
      "clf.fit(data_feature, data_target)\n",
      "predicted = clf.predict(data_feature)\n",
      "plt.scatter(data_target, predicted)\n",
      "# plt.plot([0, 50], [0, 50], '--k')\n",
      "clf.get_params()"
     ],
     "language": "python",
     "metadata": {},
     "outputs": [
      {
       "metadata": {},
       "output_type": "pyout",
       "prompt_number": 30,
       "text": [
        "{'copy_X': True, 'fit_intercept': True, 'normalize': False}"
       ]
      },
      {
       "metadata": {},
       "output_type": "display_data",
       "png": "[encoded data removed]",
       "text": [
        "<matplotlib.figure.Figure at 0x10ade99d0>"
       ]
      }
     ],
     "prompt_number": 30
    },
    {
     "cell_type": "code",
     "collapsed": false,
     "input": [],
     "language": "python",
     "metadata": {},
     "outputs": [],
     "prompt_number": 23
    },
    {
     "cell_type": "code",
     "collapsed": false,
     "input": [],
     "language": "python",
     "metadata": {},
     "outputs": [],
     "prompt_number": 23
    },
    {
     "cell_type": "code",
     "collapsed": false,
     "input": [],
     "language": "python",
     "metadata": {},
     "outputs": [],
     "prompt_number": 23
    },
    {
     "cell_type": "code",
     "collapsed": false,
     "input": [
      "from sklearn.linear_model import LinearRegression\n",
      "from sklearn.datasets import load_boston\n",
      "data = load_boston()\n",
      "\n",
      "clf = LinearRegression()\n",
      "clf.fit(data.data, data.target)\n",
      "predicted = clf.predict(data.data)\n",
      "\n",
      "plt.scatter(data.target, predicted)\n",
      "plt.plot([0, 50], [0, 50], '--k')\n",
      "plt.axis('tight')\n",
      "plt.xlabel('True price ($1000s)')\n",
      "plt.ylabel('Predicted price ($1000s)')"
     ],
     "language": "python",
     "metadata": {},
     "outputs": [
      {
       "metadata": {},
       "output_type": "pyout",
       "prompt_number": 26,
       "text": [
        "<matplotlib.text.Text at 0x10af9c6d0>"
       ]
      },
      {
       "metadata": {},
       "output_type": "display_data",
       "png": "[encoded data removed]",
       "text": [
        "<matplotlib.figure.Figure at 0x10ade92d0>"
       ]
      }
     ],
     "prompt_number": 26
    },
    {
     "cell_type": "code",
     "collapsed": false,
     "input": [],
     "language": "python",
     "metadata": {},
     "outputs": []
    }
   ],
   "metadata": {}
  }
 ]
}
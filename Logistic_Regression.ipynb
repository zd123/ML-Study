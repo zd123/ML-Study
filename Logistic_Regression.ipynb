{
 "metadata": {
  "name": "",
  "signature": "sha256:0bbfe4823f5a92a781a9be1d38edd1455de5d27b12075d12c8f5b90ded94a839"
 },
 "nbformat": 3,
 "nbformat_minor": 0,
 "worksheets": [
  {
   "cells": [
    {
     "cell_type": "code",
     "collapsed": false,
     "input": [
      "from sklearn import datasets\n",
      "import pandas as pd\n",
      "from sklearn.linear_model import LogisticRegression\n",
      "from sklearn.cross_validation import train_test_split"
     ],
     "language": "python",
     "metadata": {},
     "outputs": [],
     "prompt_number": 1
    },
    {
     "cell_type": "code",
     "collapsed": false,
     "input": [
      "data = datasets.load_iris()\n",
      "cols = data.feature_names\n",
      "vals = data.data\n",
      "\n",
      "df = pd.DataFrame(vals)\n",
      "df.columns = cols\n",
      "\n",
      "\n",
      "features = df.values\n",
      "target = data.target\n",
      "\n",
      "X_train, X_test, y_train, y_test = train_test_split(features, target)\n"
     ],
     "language": "python",
     "metadata": {},
     "outputs": [],
     "prompt_number": 17
    },
    {
     "cell_type": "code",
     "collapsed": false,
     "input": [
      "df['target_int'] = data.target\n",
      "fn = data.feature_names\n",
      "myd = {}\n",
      "for i, namez in enumerate(fn):\n",
      "    myd[i] = namez\n",
      "\n",
      "df['target'] = df.target_int.map(myd)\n",
      "df.to_csv('iris.csv', index=False)\n",
      "!open ."
     ],
     "language": "python",
     "metadata": {},
     "outputs": [],
     "prompt_number": 21
    },
    {
     "cell_type": "code",
     "collapsed": false,
     "input": [
      "## INIT YOUR CLASSIFIER OBJECT\n",
      "logit = LogisticRegression()\n",
      "\n",
      "## TRAIN YOUR MODEL\n",
      "logit.fit(X=X_train, y=y_train)\n",
      "\n",
      "## SEE HOW YOUR LOGIT SCORES ON YOUR TEST DATA\n",
      "logit.score(X=X_test, y=y_test)\n",
      "\n",
      "prediction_probabilities = logit.predict_proba(X=X_test)\n",
      "predictions = logit.predict(X=X_test)\n",
      "predictions"
     ],
     "language": "python",
     "metadata": {},
     "outputs": [
      {
       "metadata": {},
       "output_type": "pyout",
       "prompt_number": 30,
       "text": [
        "array([2, 1, 1, 2, 2, 0, 2, 1, 2, 2, 1, 2, 1, 2, 2, 0, 1, 0, 0, 0, 2, 0, 0,\n",
        "       2, 2, 0, 2, 1, 0, 2, 0, 0, 0, 2, 0, 1, 0, 2])"
       ]
      }
     ],
     "prompt_number": 30
    },
    {
     "cell_type": "code",
     "collapsed": false,
     "input": [
      "import statsmodels.api as sm"
     ],
     "language": "python",
     "metadata": {},
     "outputs": [],
     "prompt_number": 39
    },
    {
     "cell_type": "code",
     "collapsed": false,
     "input": [
      "# http://blog.yhathq.com/posts/logistic-regression-and-python.html"
     ],
     "language": "python",
     "metadata": {},
     "outputs": [],
     "prompt_number": 40
    },
    {
     "cell_type": "code",
     "collapsed": false,
     "input": [],
     "language": "python",
     "metadata": {},
     "outputs": []
    }
   ],
   "metadata": {}
  }
 ]
}